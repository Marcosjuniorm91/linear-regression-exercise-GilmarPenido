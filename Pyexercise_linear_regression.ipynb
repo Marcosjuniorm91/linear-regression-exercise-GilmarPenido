{
  "nbformat": 4,
  "nbformat_minor": 0,
  "metadata": {
    "colab": {
      "name": "Pyexercise_linear_regression.ipynb",
      "version": "0.3.2",
      "provenance": [],
      "collapsed_sections": []
    },
    "kernelspec": {
      "name": "python3",
      "display_name": "Python 3"
    }
  },
  "cells": [
    {
      "metadata": {
        "id": "ah56j4wmdoUR",
        "colab_type": "text"
      },
      "cell_type": "markdown",
      "source": [
        "# Regressão Linear\n",
        "\n",
        "## Exercício 1\n",
        "\n",
        "### 1\n",
        "\n",
        "Abra o banco de dados `Boston` e estime 3 regressões:\n",
        "\n",
        "- A primeira prevendo `medv` usando como preditor `lstat`;\n",
        "- A segunda prevendo `medv` usando como preditor `age`;\n",
        "- A terceira usando ambos os preditores.\n",
        "\n",
        "O que podemos dizer sobre o comportamento dos coeficientes estimados? E sobre o ajuste dos modelos?\n",
        "\n",
        "### 2\n",
        "\n",
        "Estime uma regressão usando todas as variáveis como preditoras. Todas são úteis para prever `medv`? Quais você deixaria e quais tiraria? Por quê?\n",
        "\n",
        "Como foi o ajuste desse modelo?\n",
        "\n",
        "Agora tire as variáveis que você considerou que não ajudam a estimação de `medv`. O que aconteceu com o ajuste do modelo?"
      ]
    },
    {
      "metadata": {
        "id": "f53_4qU5lTRD",
        "colab_type": "code",
        "colab": {}
      },
      "cell_type": "code",
      "source": [
        "import pandas as pd\n",
        "import statsmodels.formula.api as sms\n",
        "import matplotlib.pyplot as plt\n",
        "import numpy as np\n",
        "%matplotlib inline"
      ],
      "execution_count": 0,
      "outputs": []
    },
    {
      "metadata": {
        "id": "DQwg9E-PeeSx",
        "colab_type": "code",
        "colab": {}
      },
      "cell_type": "code",
      "source": [
        "# Lendo os dados\n",
        "boston = pd.DataFrame.from_csv(\"https://raw.githubusercontent.com/selva86/datasets/master/BostonHousing.csv\")\n",
        "boston.head()"
      ],
      "execution_count": 0,
      "outputs": []
    },
    {
      "metadata": {
        "id": "hr__G1Tsqv-9",
        "colab_type": "text"
      },
      "cell_type": "markdown",
      "source": [
        "## Exercício 2\n",
        "\n",
        "Vamos fazer algumas investigações no banco *credit*. Aí estão dados de cartão de crédito com as seguintes variáveis:\n",
        "\n",
        "- **Income** - renda em milhares de dólares;\n",
        "- **Limit** - limite de crédito;\n",
        "- **Rating** - o *score* de crédito;\n",
        "- **Card** - número de cartões de crédito que a pessoa possui;\n",
        "- **Age** - idade;\n",
        "- **Education** - anos de escolaridade;\n",
        "- **Gender** - sexo;\n",
        "- **Student** - se é estudante;\n",
        "- **Married** - se é casado;\n",
        "- **Ethnicity** - etnia e\n",
        "- **Balance** - dívida média de cartão de crédito.\n",
        "\n",
        "## 1\n",
        "\n",
        "Estude a diferença entre o **balance** entre homens e mulheres usando um modelo de regressão. Interprete os resultados.\n",
        "\n",
        "## 2\n",
        "Estude a diferença entre o **balance** entre pessoas de diferentes etnias usando um modelo de regressão. Interprete os resultados.\n",
        "\n",
        "## 3\n",
        "\n",
        "Estime agora um modelo de regressão utilizando todas as variáveis presentes. O que podemos dizer sobre os resultados? Todas as variáveis ajudam a explicar o *balance*? Quais variáveis você tiraria? Como ficaria seu novo modelo?\n",
        "\n",
        "## 4\n",
        "\n",
        "Estime o seu novo modelo. Interprete os resultados. O que podemos dizer sobre o ajuste do novo modelo em relação ao primeiro?"
      ]
    },
    {
      "metadata": {
        "id": "UNiiaW97tLp7",
        "colab_type": "code",
        "colab": {}
      },
      "cell_type": "code",
      "source": [
        "# Lê os dados\n",
        "credit = pd.read_csv(\"http://www-bcf.usc.edu/~gareth/ISL/Credit.csv\")\n",
        "# Tira a primeira coluna\n",
        "print(credit.columns)\n",
        "credit = credit.drop(columns=['Unnamed: 0'])\n",
        "# Após retirar coluna com índices...\n",
        "print(credit.columns)"
      ],
      "execution_count": 0,
      "outputs": []
    },
    {
      "metadata": {
        "id": "3g7cAc4etzaY",
        "colab_type": "code",
        "colab": {}
      },
      "cell_type": "code",
      "source": [
        "credit.head()"
      ],
      "execution_count": 0,
      "outputs": []
    }
  ]
}