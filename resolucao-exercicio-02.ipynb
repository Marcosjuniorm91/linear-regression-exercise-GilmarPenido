{
 "cells": [
  {
   "cell_type": "markdown",
   "metadata": {},
   "source": [
    "### Ciência de Dados\n",
    "### prof. Neylson Crepald\n",
    "### Exercício Avaliativo de Regressão Linear\n",
    "### Gilmar Penido de Souza\n",
    "\n",
    "# Exercício 2"
   ]
  },
  {
   "cell_type": "code",
   "execution_count": 4,
   "metadata": {},
   "outputs": [],
   "source": [
    "import pandas as pd\n",
    "import statsmodels.formula.api as sms\n",
    "import matplotlib.pyplot as plt\n",
    "import numpy as np\n",
    "%matplotlib inline"
   ]
  },
  {
   "cell_type": "code",
   "execution_count": 9,
   "metadata": {},
   "outputs": [
    {
     "data": {
      "text/html": [
       "<div>\n",
       "<style scoped>\n",
       "    .dataframe tbody tr th:only-of-type {\n",
       "        vertical-align: middle;\n",
       "    }\n",
       "\n",
       "    .dataframe tbody tr th {\n",
       "        vertical-align: top;\n",
       "    }\n",
       "\n",
       "    .dataframe thead th {\n",
       "        text-align: right;\n",
       "    }\n",
       "</style>\n",
       "<table border=\"1\" class=\"dataframe\">\n",
       "  <thead>\n",
       "    <tr style=\"text-align: right;\">\n",
       "      <th></th>\n",
       "      <th>Unnamed: 0</th>\n",
       "      <th>Income</th>\n",
       "      <th>Limit</th>\n",
       "      <th>Rating</th>\n",
       "      <th>Cards</th>\n",
       "      <th>Age</th>\n",
       "      <th>Education</th>\n",
       "      <th>Gender</th>\n",
       "      <th>Student</th>\n",
       "      <th>Married</th>\n",
       "      <th>Ethnicity</th>\n",
       "      <th>Balance</th>\n",
       "    </tr>\n",
       "  </thead>\n",
       "  <tbody>\n",
       "    <tr>\n",
       "      <th>0</th>\n",
       "      <td>1</td>\n",
       "      <td>14.891</td>\n",
       "      <td>3606</td>\n",
       "      <td>283</td>\n",
       "      <td>2</td>\n",
       "      <td>34</td>\n",
       "      <td>11</td>\n",
       "      <td>Male</td>\n",
       "      <td>No</td>\n",
       "      <td>Yes</td>\n",
       "      <td>Caucasian</td>\n",
       "      <td>333</td>\n",
       "    </tr>\n",
       "    <tr>\n",
       "      <th>1</th>\n",
       "      <td>2</td>\n",
       "      <td>106.025</td>\n",
       "      <td>6645</td>\n",
       "      <td>483</td>\n",
       "      <td>3</td>\n",
       "      <td>82</td>\n",
       "      <td>15</td>\n",
       "      <td>Female</td>\n",
       "      <td>Yes</td>\n",
       "      <td>Yes</td>\n",
       "      <td>Asian</td>\n",
       "      <td>903</td>\n",
       "    </tr>\n",
       "    <tr>\n",
       "      <th>2</th>\n",
       "      <td>3</td>\n",
       "      <td>104.593</td>\n",
       "      <td>7075</td>\n",
       "      <td>514</td>\n",
       "      <td>4</td>\n",
       "      <td>71</td>\n",
       "      <td>11</td>\n",
       "      <td>Male</td>\n",
       "      <td>No</td>\n",
       "      <td>No</td>\n",
       "      <td>Asian</td>\n",
       "      <td>580</td>\n",
       "    </tr>\n",
       "    <tr>\n",
       "      <th>3</th>\n",
       "      <td>4</td>\n",
       "      <td>148.924</td>\n",
       "      <td>9504</td>\n",
       "      <td>681</td>\n",
       "      <td>3</td>\n",
       "      <td>36</td>\n",
       "      <td>11</td>\n",
       "      <td>Female</td>\n",
       "      <td>No</td>\n",
       "      <td>No</td>\n",
       "      <td>Asian</td>\n",
       "      <td>964</td>\n",
       "    </tr>\n",
       "    <tr>\n",
       "      <th>4</th>\n",
       "      <td>5</td>\n",
       "      <td>55.882</td>\n",
       "      <td>4897</td>\n",
       "      <td>357</td>\n",
       "      <td>2</td>\n",
       "      <td>68</td>\n",
       "      <td>16</td>\n",
       "      <td>Male</td>\n",
       "      <td>No</td>\n",
       "      <td>Yes</td>\n",
       "      <td>Caucasian</td>\n",
       "      <td>331</td>\n",
       "    </tr>\n",
       "  </tbody>\n",
       "</table>\n",
       "</div>"
      ],
      "text/plain": [
       "   Unnamed: 0   Income  Limit  Rating  Cards  Age  Education  Gender Student  \\\n",
       "0           1   14.891   3606     283      2   34         11    Male      No   \n",
       "1           2  106.025   6645     483      3   82         15  Female     Yes   \n",
       "2           3  104.593   7075     514      4   71         11    Male      No   \n",
       "3           4  148.924   9504     681      3   36         11  Female      No   \n",
       "4           5   55.882   4897     357      2   68         16    Male      No   \n",
       "\n",
       "  Married  Ethnicity  Balance  \n",
       "0     Yes  Caucasian      333  \n",
       "1     Yes      Asian      903  \n",
       "2      No      Asian      580  \n",
       "3      No      Asian      964  \n",
       "4     Yes  Caucasian      331  "
      ]
     },
     "execution_count": 9,
     "metadata": {},
     "output_type": "execute_result"
    }
   ],
   "source": [
    "credit = pd.read_csv(\"http://www-bcf.usc.edu/~gareth/ISL/Credit.csv\")\n",
    "credit.head()"
   ]
  },
  {
   "cell_type": "markdown",
   "metadata": {},
   "source": [
    "## 1"
   ]
  },
  {
   "cell_type": "code",
   "execution_count": 8,
   "metadata": {},
   "outputs": [
    {
     "name": "stdout",
     "output_type": "stream",
     "text": [
      "                            OLS Regression Results                            \n",
      "==============================================================================\n",
      "Dep. Variable:                Balance   R-squared:                       0.000\n",
      "Model:                            OLS   Adj. R-squared:                 -0.002\n",
      "Method:                 Least Squares   F-statistic:                    0.1836\n",
      "Date:                Sun, 17 Mar 2019   Prob (F-statistic):              0.669\n",
      "Time:                        21:48:24   Log-Likelihood:                -3019.3\n",
      "No. Observations:                 400   AIC:                             6043.\n",
      "Df Residuals:                     398   BIC:                             6051.\n",
      "Df Model:                           1                                         \n",
      "Covariance Type:            nonrobust                                         \n",
      "==================================================================================\n",
      "                     coef    std err          t      P>|t|      [0.025      0.975]\n",
      "----------------------------------------------------------------------------------\n",
      "Intercept        529.5362     31.988     16.554      0.000     466.649     592.423\n",
      "Gender[T.Male]   -19.7331     46.051     -0.429      0.669    -110.267      70.801\n",
      "==============================================================================\n",
      "Omnibus:                       28.438   Durbin-Watson:                   1.940\n",
      "Prob(Omnibus):                  0.000   Jarque-Bera (JB):               27.346\n",
      "Skew:                           0.583   Prob(JB):                     1.15e-06\n",
      "Kurtosis:                       2.471   Cond. No.                         2.58\n",
      "==============================================================================\n",
      "\n",
      "Warnings:\n",
      "[1] Standard Errors assume that the covariance matrix of the errors is correctly specified.\n"
     ]
    }
   ],
   "source": [
    "modelo1 = sms.ols(\"Balance ~ Gender\", data = credit).fit()\n",
    "print(modelo1.summary())"
   ]
  },
  {
   "cell_type": "code",
   "execution_count": 11,
   "metadata": {},
   "outputs": [],
   "source": [
    "## O resultado informa que mulheres possuim em média uma dívida menor em 19 dolares,\n",
    "## porém como p-valor é maior que 0,05; não podemos descartar a hipótese nula"
   ]
  },
  {
   "cell_type": "markdown",
   "metadata": {},
   "source": [
    "## 2"
   ]
  },
  {
   "cell_type": "code",
   "execution_count": 12,
   "metadata": {},
   "outputs": [
    {
     "name": "stdout",
     "output_type": "stream",
     "text": [
      "                            OLS Regression Results                            \n",
      "==============================================================================\n",
      "Dep. Variable:                Balance   R-squared:                       0.000\n",
      "Model:                            OLS   Adj. R-squared:                 -0.005\n",
      "Method:                 Least Squares   F-statistic:                   0.04344\n",
      "Date:                Sun, 17 Mar 2019   Prob (F-statistic):              0.957\n",
      "Time:                        22:06:49   Log-Likelihood:                -3019.3\n",
      "No. Observations:                 400   AIC:                             6045.\n",
      "Df Residuals:                     397   BIC:                             6057.\n",
      "Df Model:                           2                                         \n",
      "Covariance Type:            nonrobust                                         \n",
      "==========================================================================================\n",
      "                             coef    std err          t      P>|t|      [0.025      0.975]\n",
      "------------------------------------------------------------------------------------------\n",
      "Intercept                531.0000     46.319     11.464      0.000     439.939     622.061\n",
      "Ethnicity[T.Asian]       -18.6863     65.021     -0.287      0.774    -146.515     109.142\n",
      "Ethnicity[T.Caucasian]   -12.5025     56.681     -0.221      0.826    -123.935      98.930\n",
      "==============================================================================\n",
      "Omnibus:                       28.829   Durbin-Watson:                   1.946\n",
      "Prob(Omnibus):                  0.000   Jarque-Bera (JB):               27.395\n",
      "Skew:                           0.581   Prob(JB):                     1.13e-06\n",
      "Kurtosis:                       2.460   Cond. No.                         4.39\n",
      "==============================================================================\n",
      "\n",
      "Warnings:\n",
      "[1] Standard Errors assume that the covariance matrix of the errors is correctly specified.\n"
     ]
    }
   ],
   "source": [
    "modelo2 = sms.ols(\"Balance ~ Ethnicity\", data = credit).fit()\n",
    "print(modelo2.summary())"
   ]
  },
  {
   "cell_type": "code",
   "execution_count": 14,
   "metadata": {},
   "outputs": [],
   "source": [
    "## O resultado informa que asiaticos possuim em média uma dívida menor em 18 dólares,\n",
    "## comparados a negros e brancos possuim uma dída menor em 12 dólares\n",
    "## porém como p-valor é maior que 0,05; não podemos descartar a hipótese nula"
   ]
  },
  {
   "cell_type": "markdown",
   "metadata": {},
   "source": [
    "## 3"
   ]
  },
  {
   "cell_type": "code",
   "execution_count": 22,
   "metadata": {},
   "outputs": [
    {
     "name": "stdout",
     "output_type": "stream",
     "text": [
      "                            OLS Regression Results                            \n",
      "==============================================================================\n",
      "Dep. Variable:                Balance   R-squared:                       0.955\n",
      "Model:                            OLS   Adj. R-squared:                  0.954\n",
      "Method:                 Least Squares   F-statistic:                     750.3\n",
      "Date:                Sun, 17 Mar 2019   Prob (F-statistic):          1.11e-253\n",
      "Time:                        22:14:10   Log-Likelihood:                -2398.7\n",
      "No. Observations:                 400   AIC:                             4821.\n",
      "Df Residuals:                     388   BIC:                             4869.\n",
      "Df Model:                          11                                         \n",
      "Covariance Type:            nonrobust                                         \n",
      "==========================================================================================\n",
      "                             coef    std err          t      P>|t|      [0.025      0.975]\n",
      "------------------------------------------------------------------------------------------\n",
      "Intercept               -489.8611     35.801    -13.683      0.000    -560.250    -419.473\n",
      "Gender[T.Male]            10.6532      9.914      1.075      0.283      -8.839      30.145\n",
      "Student[T.Yes]           425.7474     16.723     25.459      0.000     392.869     458.626\n",
      "Married[T.Yes]            -8.5339     10.363     -0.824      0.411     -28.908      11.841\n",
      "Ethnicity[T.Asian]        16.8042     14.119      1.190      0.235     -10.955      44.564\n",
      "Ethnicity[T.Caucasian]    10.1070     12.210      0.828      0.408     -13.899      34.113\n",
      "Income                    -7.8031      0.234    -33.314      0.000      -8.264      -7.343\n",
      "Limit                      0.1909      0.033      5.824      0.000       0.126       0.255\n",
      "Rating                     1.1365      0.491      2.315      0.021       0.171       2.102\n",
      "Cards                     17.7245      4.341      4.083      0.000       9.190      26.259\n",
      "Age                       -0.6139      0.294     -2.088      0.037      -1.192      -0.036\n",
      "Education                 -1.0989      1.598     -0.688      0.492      -4.241       2.043\n",
      "==============================================================================\n",
      "Omnibus:                       34.899   Durbin-Watson:                   1.968\n",
      "Prob(Omnibus):                  0.000   Jarque-Bera (JB):               41.766\n",
      "Skew:                           0.782   Prob(JB):                     8.52e-10\n",
      "Kurtosis:                       3.241   Cond. No.                     3.87e+04\n",
      "==============================================================================\n",
      "\n",
      "Warnings:\n",
      "[1] Standard Errors assume that the covariance matrix of the errors is correctly specified.\n",
      "[2] The condition number is large, 3.87e+04. This might indicate that there are\n",
      "strong multicollinearity or other numerical problems.\n"
     ]
    }
   ],
   "source": [
    "modelo3 = sms.ols(\"Balance ~ Income + Limit + Rating + Cards + Age\"\n",
    "                  + \"+ Education + Gender + Student + Married + Ethnicity\",\n",
    "                 data = credit).fit()\n",
    "print(modelo3.summary())"
   ]
  },
  {
   "cell_type": "code",
   "execution_count": 23,
   "metadata": {},
   "outputs": [],
   "source": [
    "## O modelo agora possui um nível de acerto de 95%\n",
    "## porém as variáveis 'Gender', 'Married', 'Ethnicity' e 'Education' tem um \n",
    "## P valor maior que 0,05; não ajudando a explicar o Balance"
   ]
  },
  {
   "cell_type": "markdown",
   "metadata": {},
   "source": [
    "## 4"
   ]
  },
  {
   "cell_type": "code",
   "execution_count": 25,
   "metadata": {},
   "outputs": [
    {
     "name": "stdout",
     "output_type": "stream",
     "text": [
      "                            OLS Regression Results                            \n",
      "==============================================================================\n",
      "Dep. Variable:                Balance   R-squared:                       0.955\n",
      "Model:                            OLS   Adj. R-squared:                  0.954\n",
      "Method:                 Least Squares   F-statistic:                     1380.\n",
      "Date:                Sun, 17 Mar 2019   Prob (F-statistic):          1.58e-260\n",
      "Time:                        22:18:48   Log-Likelihood:                -2400.5\n",
      "No. Observations:                 400   AIC:                             4815.\n",
      "Df Residuals:                     393   BIC:                             4843.\n",
      "Df Model:                           6                                         \n",
      "Covariance Type:            nonrobust                                         \n",
      "==================================================================================\n",
      "                     coef    std err          t      P>|t|      [0.025      0.975]\n",
      "----------------------------------------------------------------------------------\n",
      "Intercept       -493.7342     24.825    -19.889      0.000    -542.540    -444.928\n",
      "Student[T.Yes]   425.6099     16.510     25.780      0.000     393.152     458.068\n",
      "Income            -7.7951      0.233    -33.395      0.000      -8.254      -7.336\n",
      "Limit              0.1937      0.032      5.981      0.000       0.130       0.257\n",
      "Rating             1.0912      0.485      2.251      0.025       0.138       2.044\n",
      "Cards             18.2119      4.319      4.217      0.000       9.721      26.702\n",
      "Age               -0.6241      0.292     -2.139      0.033      -1.198      -0.050\n",
      "==============================================================================\n",
      "Omnibus:                       34.091   Durbin-Watson:                   1.954\n",
      "Prob(Omnibus):                  0.000   Jarque-Bera (JB):               40.623\n",
      "Skew:                           0.772   Prob(JB):                     1.51e-09\n",
      "Kurtosis:                       3.225   Cond. No.                     2.66e+04\n",
      "==============================================================================\n",
      "\n",
      "Warnings:\n",
      "[1] Standard Errors assume that the covariance matrix of the errors is correctly specified.\n",
      "[2] The condition number is large, 2.66e+04. This might indicate that there are\n",
      "strong multicollinearity or other numerical problems.\n"
     ]
    }
   ],
   "source": [
    "modelo4 = sms.ols(\"Balance ~ Income + Limit + Rating + Cards + Age + Student\",\n",
    "                 data = credit).fit()\n",
    "print(modelo4.summary())"
   ]
  },
  {
   "cell_type": "code",
   "execution_count": null,
   "metadata": {},
   "outputs": [],
   "source": [
    "## Mesmo removendo as variáveis que possuiem p valor maior que 0,05\n",
    "## o modelo permaneceu com a mesma acurácia"
   ]
  }
 ],
 "metadata": {
  "kernelspec": {
   "display_name": "Python 3",
   "language": "python",
   "name": "python3"
  },
  "language_info": {
   "codemirror_mode": {
    "name": "ipython",
    "version": 3
   },
   "file_extension": ".py",
   "mimetype": "text/x-python",
   "name": "python",
   "nbconvert_exporter": "python",
   "pygments_lexer": "ipython3",
   "version": "3.7.1"
  }
 },
 "nbformat": 4,
 "nbformat_minor": 2
}
